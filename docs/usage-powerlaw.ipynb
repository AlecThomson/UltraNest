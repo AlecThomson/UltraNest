{
 "cells": [
  {
   "cell_type": "markdown",
   "metadata": {},
   "source": [
    "# Usage\n",
    "\n",
    "To use UltraNest in a project:"
   ]
  },
  {
   "cell_type": "code",
   "execution_count": null,
   "metadata": {},
   "outputs": [],
   "source": [
    "import ultranest"
   ]
  },
  {
   "cell_type": "markdown",
   "metadata": {},
   "source": [
    "Next, we need to define our problem.\n",
    "\n",
    "Lets say we try to fit a powerlaw to a data ."
   ]
  },
  {
   "cell_type": "code",
   "execution_count": null,
   "metadata": {},
   "outputs": [],
   "source": [
    "import numpy as np\n",
    "data = np.random.power(2.5, size=40)"
   ]
  },
  {
   "cell_type": "markdown",
   "metadata": {},
   "source": [
    "This problem has 2 parameters: The powerlaw index and the minimum value:"
   ]
  },
  {
   "cell_type": "code",
   "execution_count": null,
   "metadata": {},
   "outputs": [],
   "source": [
    "%matplotlib inline\n",
    "import matplotlib.pyplot as plt\n",
    "plt.hist(data)"
   ]
  },
  {
   "cell_type": "code",
   "execution_count": null,
   "metadata": {},
   "outputs": [],
   "source": [
    "param_names = ['index', 'min']"
   ]
  },
  {
   "cell_type": "markdown",
   "metadata": {},
   "source": [
    "In UltraNest, the parameter space is defined through a transform\n",
    "from unit values (0...1) to the physical range:"
   ]
  },
  {
   "cell_type": "code",
   "execution_count": null,
   "metadata": {},
   "outputs": [],
   "source": [
    "def my_prior_transform(cube):\n",
    "    params = cube.copy()\n",
    "\n",
    "    # transform for index (first parameter):\n",
    "    # from 0...1 to 0...10    (uniform prior)\n",
    "    lo = -10\n",
    "    hi = 10\n",
    "    params[0] = cube[0] * (hi - lo) + lo\n",
    "\n",
    "    # transform for min (second parameter):\n",
    "    # from 0...1 to 0.1 ... 1000  (log-uniform prior)\n",
    "    lo = 0.1\n",
    "    hi = 10\n",
    "    params[1] = 10**(cube[1] * (np.log10(hi) - np.log10(lo)) + np.log10(lo))\n",
    "\n",
    "    # for more complex priors, you can use the ppf functions \n",
    "    # from scipy.stats, such as scipy.stats.norm(mean, std).ppf\n",
    "\n",
    "    return params\n"
   ]
  },
  {
   "cell_type": "markdown",
   "metadata": {},
   "source": [
    "Next, we need to specify the data likelihood given certain parameters:"
   ]
  },
  {
   "cell_type": "code",
   "execution_count": null,
   "metadata": {},
   "outputs": [],
   "source": [
    "import scipy.stats\n",
    "from numpy import log\n",
    "\n",
    "def my_likelihood(params):\n",
    "    \n",
    "    index, min = params\n",
    "    ## set up a powerlaw distribution\n",
    "    rv = scipy.stats.powerlaw(index, loc=min)\n",
    "\n",
    "    ## compute log-likelihood for each data point and sum\n",
    "    like = rv.logpdf(data).sum()\n",
    "    \n",
    "    # avoid nan and -inf: return a small number instead\n",
    "    if not np.isfinite(like):\n",
    "        return -1e100\n",
    "\n",
    "    return like\n"
   ]
  },
  {
   "cell_type": "markdown",
   "metadata": {},
   "source": [
    "We are now ready to explore this parameter space!"
   ]
  },
  {
   "cell_type": "code",
   "execution_count": null,
   "metadata": {},
   "outputs": [],
   "source": [
    "sampler = ultranest.ReactiveNestedSampler(\n",
    "        param_names,\n",
    "        loglike=my_likelihood,\n",
    "        transform=my_prior_transform,\n",
    "        )"
   ]
  },
  {
   "cell_type": "markdown",
   "metadata": {},
   "source": [
    "`ReactiveNestedSampler <ultranest.html#ultranest.integrator.ReactiveNestedSampler>`_ \n",
    "has several options to specify what logging and file output it should produce.\n"
   ]
  },
  {
   "cell_type": "code",
   "execution_count": null,
   "metadata": {},
   "outputs": [],
   "source": [
    "result = sampler.run()\n",
    "sampler.print_results()"
   ]
  },
  {
   "cell_type": "code",
   "execution_count": null,
   "metadata": {},
   "outputs": [],
   "source": [
    "from ultranest.plot import cornerplot\n",
    "cornerplot(result)"
   ]
  },
  {
   "cell_type": "markdown",
   "metadata": {},
   "source": [
    "\n",
    "    \n",
    "\n",
    "\n",
    "    sampler = ultranest.ReactiveNestedSampler(\n",
    "        param_names, \n",
    "        loglike=my_likelihood, \n",
    "        transform=my_prior_transform,\n",
    "        ## additional parameter properties: \n",
    "        # identify circular parameters\n",
    "        wrapped_params=None,\n",
    "        # add derived calculations\n",
    "        derived_param_names=[], \n",
    "        # where to store the output\n",
    "        log_dir=None,\n",
    "        # whether to continue from existing output\n",
    "        resume=False,\n",
    "        # make a new folder for each run?\n",
    "        append_run_num=True,\n",
    "        run_num=None,\n",
    "        num_test_samples=2,\n",
    "        draw_multiple=True,\n",
    "        num_bootstraps=30,\n",
    "        show_status=True\n",
    "        )\n",
    "\n",
    "\n",
    "Both `ReactiveNestedSampler <ultranest.html#ultranest.integrator.ReactiveNestedSampler>`_ \n",
    "and the `run function <ultranest.html#ultranest.integrator.ReactiveNestedSampler.run>`_ \n",
    "have several options to specify what logging and file output they should produce,\n",
    "and how they should explore the parameter space.\n",
    "\n",
    "\n",
    "\n",
    "\n",
    "\n",
    "\n"
   ]
  },
  {
   "cell_type": "code",
   "execution_count": null,
   "metadata": {},
   "outputs": [],
   "source": [
    "plt.figure()\n",
    "plt.xlabel('x')\n",
    "plt.ylabel('Cumulative probability')\n",
    "plt.hist(data, histtype='step', cumulative=True, density=True, label='data')\n",
    "\n",
    "from ultranest.plot import PredictionBand\n",
    "\n",
    "x_grid = np.linspace(0, 1.4, 40)\n",
    "band = PredictionBand(x_grid)\n",
    "ppc_band = PredictionBand(x_grid[:-1])\n",
    "\n",
    "for index, min in result['samples']:\n",
    "    rv = scipy.stats.powerlaw(index, loc=min)\n",
    "    band.add(rv.cdf(x_grid))\n",
    "    \n",
    "    # generate data\n",
    "    simulated_data = np.random.power(index, size=len(data))\n",
    "    hist, _ = np.histogram(simulated_data, bins=x_grid)\n",
    "    ppc_band.add(hist.cumsum() / hist.sum())\n",
    "\n",
    "band.line(color='k')\n",
    "# add 1 sigma quantile\n",
    "band.shade(color='k', alpha=0.3)\n",
    "\n",
    "ppc_band.line(color='g', alpha=0.5)\n",
    "# add 1 sigma quantile\n",
    "ppc_band.shade(color='g', alpha=0.1)\n"
   ]
  },
  {
   "cell_type": "code",
   "execution_count": null,
   "metadata": {},
   "outputs": [],
   "source": []
  }
 ],
 "metadata": {
  "kernelspec": {
   "display_name": "Python 3",
   "language": "python",
   "name": "python3"
  },
  "language_info": {
   "codemirror_mode": {
    "name": "ipython",
    "version": 3
   },
   "file_extension": ".py",
   "mimetype": "text/x-python",
   "name": "python",
   "nbconvert_exporter": "python",
   "pygments_lexer": "ipython3",
   "version": "3.6.8"
  }
 },
 "nbformat": 4,
 "nbformat_minor": 2
}
